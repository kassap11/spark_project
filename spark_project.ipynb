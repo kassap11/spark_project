{
 "cells": [
  {
   "cell_type": "code",
   "execution_count": 1,
   "id": "69bc48f8",
   "metadata": {},
   "outputs": [],
   "source": [
    "from pyspark.sql import SparkSession\n",
    "from pyspark.sql.functions import avg, max"
   ]
  },
  {
   "cell_type": "markdown",
   "id": "6a9f945a",
   "metadata": {},
   "source": [
    "# Create a SparkSession"
   ]
  },
  {
   "cell_type": "code",
   "execution_count": 4,
   "id": "c547ec50",
   "metadata": {},
   "outputs": [],
   "source": [
    "spark = SparkSession.builder \\\n",
    "    .appName(\"ExploratoryDataAnalysis\") \\\n",
    "    .getOrCreate()\n",
    "df = spark.read.csv('E:/level 2/23_24_premier_league_0408_Squad Advanced Goalkeeping.csv', header=True, escape='\"')"
   ]
  },
  {
   "cell_type": "markdown",
   "id": "e401adc6",
   "metadata": {},
   "source": [
    "# display the data"
   ]
  },
  {
   "cell_type": "code",
   "execution_count": 5,
   "id": "091c2a78",
   "metadata": {},
   "outputs": [
    {
     "name": "stdout",
     "output_type": "stream",
     "text": [
      "+---------------+--------------+----------------------+--------+---------+--------+--------+--------+-------------+-----------------+----------------+------------+------------+------------+-------------+---------------+----------+--------------+-------------+--------------+------------------+-----------------+-----------+-----------+------------+------------+---------------+---------------+\n",
      "|          Squad|Num_of_players|Mins_played_diveded_90|Goals_GA|Goals_PKA|Goals_FK|Goals_CK|Goals_OG|Expected_PSxG|Expected_PSxG/SoT|Expected_PSxG+/-|Expected_/90|Launched_Cmp|Launched_Att|Launched_Cmp%|Passes_Att (GK)|Passes_Thr|Passes_Launch%|Passes_AvgLen|Goal Kicks_Att|Goal Kicks_Launch%|Goal Kicks_AvgLen|Crosses_Opp|Crosses_Stp|Crosses_Stp%|Sweeper_#OPA|Sweeper_#OPA/90|Sweeper_AvgDist|\n",
      "+---------------+--------------+----------------------+--------+---------+--------+--------+--------+-------------+-----------------+----------------+------------+------------+------------+-------------+---------------+----------+--------------+-------------+--------------+------------------+-----------------+-----------+-----------+------------+------------+---------------+---------------+\n",
      "|        Arsenal|             2|                  31.0|      24|        1|       0|       5|       1|         20.4|             0.28|            -2.6|       -0.08|         116|         358|         32.4|            887|       159|          33.7|         33.3|           158|              37.3|             32.4|        293|         40|        13.7|          49|           1.58|           14.6|\n",
      "|    Aston Villa|             2|                  32.0|      49|        0|       1|      10|       3|         48.8|             0.37|             2.8|        0.09|         110|         302|         36.4|           1143|       150|          21.1|         27.3|           193|              31.6|             30.0|        357|         40|        11.2|          65|           2.03|           18.0|\n",
      "|    Bournemouth|             2|                  31.0|      55|        4|       1|       6|       1|         52.5|              0.3|            -1.5|       -0.05|         161|         469|         34.3|            821|       152|          42.1|         36.6|           214|              57.5|             44.2|        406|         28|         6.9|          28|            0.9|           13.5|\n",
      "|      Brentford|             2|                  32.0|      58|        2|       0|       5|       0|         50.4|              0.3|            -7.6|       -0.24|         227|         605|         37.5|           1127|       106|          39.7|         35.8|           273|              57.9|             44.6|        523|         34|         6.5|          29|           0.91|           10.0|\n",
      "|       Brighton|             2|                  31.0|      49|        6|       0|       7|       2|         43.4|             0.29|            -3.6|       -0.12|          79|         213|         37.1|           1055|       150|          18.9|         27.2|           215|               6.5|             12.6|        325|         21|         6.5|          49|           1.58|           19.8|\n",
      "|        Burnley|             2|                  32.0|      67|        6|       0|      11|       2|         60.7|             0.29|            -4.3|       -0.13|         179|         696|         25.7|           1503|       184|          35.1|         35.1|           236|              71.2|             50.1|        477|         38|         8.0|          57|           1.78|           18.6|\n",
      "|        Chelsea|             2|                  30.0|      52|        3|       0|       7|       1|         45.2|             0.28|            -5.8|       -0.19|         111|         293|         37.9|            897|       158|          23.6|         28.8|           213|              38.0|             32.3|        402|         30|         7.5|          42|            1.4|           15.5|\n",
      "| Crystal Palace|             3|                  31.0|      54|        3|       0|       7|       1|         43.1|             0.31|            -9.9|       -0.32|         158|         516|         30.6|            686|        91|          52.3|         41.2|           213|              73.7|             51.1|        495|         27|         5.5|          26|           0.84|           11.2|\n",
      "|        Everton|             1|                  31.0|      42|        7|       0|       9|       3|         41.5|             0.27|             2.5|        0.08|         316|         738|         42.8|           1067|       116|          57.4|         41.5|           219|              57.5|             46.4|        442|         19|         4.3|          48|           1.55|           17.4|\n",
      "|         Fulham|             1|                  32.0|      51|        6|       0|       2|       4|         46.0|             0.26|            -1.0|       -0.03|         123|         370|         33.2|           1048|       130|          26.1|         28.9|           241|              39.8|             34.0|        372|         14|         3.8|          35|           1.09|           14.7|\n",
      "|      Liverpool|             2|                  31.0|      30|        1|       0|       5|       2|         30.3|             0.27|             2.3|        0.07|          86|         261|         33.0|           1139|       151|          18.2|         25.2|           194|              27.8|             29.0|        311|         17|         5.5|          39|           1.26|           17.1|\n",
      "|     Luton Town|             1|                  32.0|      65|        2|       0|       9|       3|         61.4|             0.35|            -0.6|       -0.02|         235|         712|         33.0|            959|       125|          53.7|         40.1|           294|              67.0|             47.8|        468|         15|         3.2|          58|           1.81|           18.6|\n",
      "|Manchester City|             2|                  31.0|      31|        3|       0|       2|       1|         30.8|              0.3|             0.8|        0.03|         127|         271|         46.9|           1109|       136|          20.3|         27.2|           134|              34.3|             33.5|        253|         25|         9.9|          48|           1.55|           16.0|\n",
      "| Manchester Utd|             1|                  31.0|      46|        6|       1|       9|       1|         48.9|             0.27|             3.9|        0.13|         121|         417|         29.0|            944|       113|          35.3|         31.3|           271|              31.0|             27.5|        511|         33|         6.5|          30|           0.97|           13.2|\n",
      "|  Newcastle Utd|             3|                  31.0|      52|        4|       1|       4|       1|         53.4|             0.31|             2.4|        0.08|          80|         243|         32.9|            664|       200|          19.0|         36.3|           226|              51.8|             39.6|        370|         25|         6.8|          45|           1.45|           19.5|\n",
      "|Nott'ham Forest|             3|                  32.0|      56|        3|       1|      13|       2|         38.9|             0.27|           -15.1|       -0.47|         207|         463|         44.7|            728|       151|          41.9|         29.6|           261|              60.5|             43.5|        544|         40|         7.4|          24|           0.75|           10.3|\n",
      "|  Sheffield Utd|             2|                  31.0|      82|        3|       0|      12|       5|         67.7|             0.32|            -9.3|        -0.3|         220|         670|         32.8|            786|        98|          56.4|         42.9|           289|              78.5|             54.8|        571|         27|         4.7|          45|           1.45|           14.1|\n",
      "|      Tottenham|             1|                  31.0|      45|        6|       1|       6|       2|         49.6|             0.33|             6.6|        0.21|          50|         205|         24.4|           1079|       166|          16.3|         24.8|           211|              13.7|             20.9|        438|         29|         6.6|          62|            2.0|           16.5|\n",
      "|       West Ham|             2|                  32.0|      56|        8|       0|       4|       2|         57.1|             0.25|             3.1|         0.1|         180|         472|         38.1|            662|       157|          47.4|         39.2|           262|              60.3|             43.7|        503|         30|         6.0|           8|           0.25|            7.9|\n",
      "|         Wolves|             2|                  31.0|      49|        6|       1|       4|       1|         53.5|             0.33|             5.5|        0.18|          73|         360|         20.3|            698|       172|          34.0|         32.4|           242|              50.8|             39.1|        472|         40|         8.5|          27|           0.87|           12.7|\n",
      "+---------------+--------------+----------------------+--------+---------+--------+--------+--------+-------------+-----------------+----------------+------------+------------+------------+-------------+---------------+----------+--------------+-------------+--------------+------------------+-----------------+-----------+-----------+------------+------------+---------------+---------------+\n",
      "\n"
     ]
    }
   ],
   "source": [
    "df.show()"
   ]
  },
  {
   "cell_type": "markdown",
   "id": "13e987cd",
   "metadata": {},
   "source": [
    "# show the Schema"
   ]
  },
  {
   "cell_type": "code",
   "execution_count": 4,
   "id": "23a28229",
   "metadata": {},
   "outputs": [
    {
     "name": "stdout",
     "output_type": "stream",
     "text": [
      "root\n",
      " |-- Squad: string (nullable = true)\n",
      " |-- Num_of_players: string (nullable = true)\n",
      " |-- Mins_played_diveded_90: string (nullable = true)\n",
      " |-- Goals_GA: string (nullable = true)\n",
      " |-- Goals_PKA: string (nullable = true)\n",
      " |-- Goals_FK: string (nullable = true)\n",
      " |-- Goals_CK: string (nullable = true)\n",
      " |-- Goals_OG: string (nullable = true)\n",
      " |-- Expected_PSxG: string (nullable = true)\n",
      " |-- Expected_PSxG/SoT: string (nullable = true)\n",
      " |-- Expected_PSxG+/-: string (nullable = true)\n",
      " |-- Expected_/90: string (nullable = true)\n",
      " |-- Launched_Cmp: string (nullable = true)\n",
      " |-- Launched_Att: string (nullable = true)\n",
      " |-- Launched_Cmp%: string (nullable = true)\n",
      " |-- Passes_Att (GK): string (nullable = true)\n",
      " |-- Passes_Thr: string (nullable = true)\n",
      " |-- Passes_Launch%: string (nullable = true)\n",
      " |-- Passes_AvgLen: string (nullable = true)\n",
      " |-- Goal Kicks_Att: string (nullable = true)\n",
      " |-- Goal Kicks_Launch%: string (nullable = true)\n",
      " |-- Goal Kicks_AvgLen: string (nullable = true)\n",
      " |-- Crosses_Opp: string (nullable = true)\n",
      " |-- Crosses_Stp: string (nullable = true)\n",
      " |-- Crosses_Stp%: string (nullable = true)\n",
      " |-- Sweeper_#OPA: string (nullable = true)\n",
      " |-- Sweeper_#OPA/90: string (nullable = true)\n",
      " |-- Sweeper_AvgDist: string (nullable = true)\n",
      "\n"
     ]
    }
   ],
   "source": [
    "df.printSchema()"
   ]
  },
  {
   "cell_type": "code",
   "execution_count": 5,
   "id": "c3001c01",
   "metadata": {},
   "outputs": [
    {
     "data": {
      "text/plain": [
       "20"
      ]
     },
     "execution_count": 5,
     "metadata": {},
     "output_type": "execute_result"
    }
   ],
   "source": [
    "df.count()"
   ]
  },
  {
   "cell_type": "markdown",
   "id": "82d5f4bb",
   "metadata": {},
   "source": [
    "# Question 1: Which team has the highest average minutes played per game?"
   ]
  },
  {
   "cell_type": "code",
   "execution_count": 6,
   "id": "ee739b81",
   "metadata": {},
   "outputs": [
    {
     "name": "stdout",
     "output_type": "stream",
     "text": [
      "Team with the highest average minutes played per game: Brentford with an average of 32.0 minutes per game\n"
     ]
    }
   ],
   "source": [
    "avg_minutes_per_game = df.groupBy(\"Squad\").agg(avg(\"Mins_played_diveded_90\").alias(\"Avg_Minutes_Played\"))\n",
    "max_avg_minutes = avg_minutes_per_game.agg({\"Avg_Minutes_Played\": \"max\"}).collect()[0][0]\n",
    "team_with_max_avg_minutes = avg_minutes_per_game.filter(avg_minutes_per_game[\"Avg_Minutes_Played\"] == max_avg_minutes).select(\"Squad\").collect()[0][0]\n",
    "print(\"Team with the highest average minutes played per game:\", team_with_max_avg_minutes, \"with an average of\", max_avg_minutes, \"minutes per game\")"
   ]
  },
  {
   "cell_type": "markdown",
   "id": "5e2c394a",
   "metadata": {},
   "source": [
    "# Question 2: What is the distribution of goals (GA) across teams?"
   ]
  },
  {
   "cell_type": "code",
   "execution_count": 7,
   "id": "2e8bb038",
   "metadata": {},
   "outputs": [
    {
     "name": "stdout",
     "output_type": "stream",
     "text": [
      "Distribution of goals across teams:\n",
      "+---------------+---------+\n",
      "|          Squad|Avg_Goals|\n",
      "+---------------+---------+\n",
      "|      Tottenham|     45.0|\n",
      "|       Brighton|     49.0|\n",
      "|  Sheffield Utd|     82.0|\n",
      "|        Arsenal|     24.0|\n",
      "|      Brentford|     58.0|\n",
      "|  Newcastle Utd|     52.0|\n",
      "| Crystal Palace|     54.0|\n",
      "|        Burnley|     67.0|\n",
      "|    Aston Villa|     49.0|\n",
      "|Manchester City|     31.0|\n",
      "|    Bournemouth|     55.0|\n",
      "| Manchester Utd|     46.0|\n",
      "|         Fulham|     51.0|\n",
      "|       West Ham|     56.0|\n",
      "|Nott'ham Forest|     56.0|\n",
      "|         Wolves|     49.0|\n",
      "|      Liverpool|     30.0|\n",
      "|        Chelsea|     52.0|\n",
      "|     Luton Town|     65.0|\n",
      "|        Everton|     42.0|\n",
      "+---------------+---------+\n",
      "\n"
     ]
    }
   ],
   "source": [
    "\n",
    "goals_distribution = df.groupBy(\"Squad\").agg(avg(\"Goals_GA\").alias(\"Avg_Goals\"))\n",
    "print(\"Distribution of goals across teams:\")\n",
    "goals_distribution.show()"
   ]
  },
  {
   "cell_type": "markdown",
   "id": "271cc9bf",
   "metadata": {},
   "source": [
    "# Question 3: Which team has the highest pass completion percentage for launched passes?"
   ]
  },
  {
   "cell_type": "code",
   "execution_count": 8,
   "id": "83c9d2a2",
   "metadata": {},
   "outputs": [
    {
     "name": "stdout",
     "output_type": "stream",
     "text": [
      "Team with the highest pass completion percentage for launched passes: Manchester City with a pass completion percentage of 46.86346863468634\n"
     ]
    }
   ],
   "source": [
    "pass_completion_percentage = df.withColumn(\"Pass_Completion_Percentage\", (df[\"Launched_Cmp\"] / df[\"Launched_Att\"]) * 100)\n",
    "max_pass_completion = pass_completion_percentage.agg({\"Pass_Completion_Percentage\": \"max\"}).collect()[0][0]\n",
    "team_with_max_pass_completion = pass_completion_percentage.filter(pass_completion_percentage[\"Pass_Completion_Percentage\"] == max_pass_completion).select(\"Squad\").collect()[0][0]\n",
    "print(\"Team with the highest pass completion percentage for launched passes:\", team_with_max_pass_completion, \"with a pass completion percentage of\", max_pass_completion)"
   ]
  },
  {
   "cell_type": "markdown",
   "id": "2d1174a4",
   "metadata": {},
   "source": [
    "# Question 4: Which team has the highest percentage of crosses stopped defensively?"
   ]
  },
  {
   "cell_type": "code",
   "execution_count": 10,
   "id": "2fba02a4",
   "metadata": {},
   "outputs": [
    {
     "name": "stdout",
     "output_type": "stream",
     "text": [
      "Team with the highest percentage of crosses stopped defensively: Arsenal with a defensive crosses stopped percentage of 13.651877133105803\n"
     ]
    }
   ],
   "source": [
    "\n",
    "crosses_stopped_percentage = df.withColumn(\"Crosses_Stp_Percentage\", (df[\"Crosses_Stp\"] / df[\"Crosses_Opp\"]) * 100)\n",
    "max_crosses_stopped_percentage = crosses_stopped_percentage.agg({\"Crosses_Stp_Percentage\": \"max\"}).collect()[0][0]\n",
    "team_with_max_crosses_stopped = crosses_stopped_percentage.filter(crosses_stopped_percentage[\"Crosses_Stp_Percentage\"] == max_crosses_stopped_percentage).select(\"Squad\").collect()[0][0]\n",
    "print(\"Team with the highest percentage of crosses stopped defensively:\", team_with_max_crosses_stopped, \"with a defensive crosses stopped percentage of\", max_crosses_stopped_percentage)"
   ]
  },
  {
   "cell_type": "markdown",
   "id": "14904741",
   "metadata": {},
   "source": [
    "# Question 5: Which team has the highest number of sweeper actions per 90 minutes?"
   ]
  },
  {
   "cell_type": "code",
   "execution_count": 13,
   "id": "258544c5",
   "metadata": {},
   "outputs": [
    {
     "name": "stdout",
     "output_type": "stream",
     "text": [
      "Team with the highest number of sweeper actions per 90 minutes: Aston Villa with an average of 2.03 sweeper actions per 90 minutes\n"
     ]
    }
   ],
   "source": [
    "\n",
    "sweeper_actions = df.groupBy(\"Squad\").agg(avg(\"Sweeper_#OPA/90\").alias(\"Avg_Sweeper_Actions_per_90\"))\n",
    "max_sweeper_actions = sweeper_actions.agg({\"Avg_Sweeper_Actions_per_90\": \"max\"}).collect()[0][0]\n",
    "team_with_max_sweeper_actions = sweeper_actions.filter(sweeper_actions[\"Avg_Sweeper_Actions_per_90\"] == max_sweeper_actions).select(\"Squad\").collect()[0][0]\n",
    "print(\"Team with the highest number of sweeper actions per 90 minutes:\", team_with_max_sweeper_actions, \"with an average of\", max_sweeper_actions, \"sweeper actions per 90 minutes\")"
   ]
  },
  {
   "cell_type": "markdown",
   "id": "7f9c8a94",
   "metadata": {},
   "source": [
    "# Stop the SparkSession"
   ]
  },
  {
   "cell_type": "code",
   "execution_count": 16,
   "id": "01eb5b0d",
   "metadata": {},
   "outputs": [],
   "source": [
    "\n",
    "spark.stop()"
   ]
  },
  {
   "cell_type": "code",
   "execution_count": null,
   "id": "69623107",
   "metadata": {},
   "outputs": [],
   "source": []
  }
 ],
 "metadata": {
  "kernelspec": {
   "display_name": "Python 3 (ipykernel)",
   "language": "python",
   "name": "python3"
  },
  "language_info": {
   "codemirror_mode": {
    "name": "ipython",
    "version": 3
   },
   "file_extension": ".py",
   "mimetype": "text/x-python",
   "name": "python",
   "nbconvert_exporter": "python",
   "pygments_lexer": "ipython3",
   "version": "3.11.5"
  }
 },
 "nbformat": 4,
 "nbformat_minor": 5
}
